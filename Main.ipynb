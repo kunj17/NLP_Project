{
 "cells": [
  {
   "cell_type": "markdown",
   "metadata": {},
   "source": [
    "# NLP Extra Credit- KXP180035"
   ]
  },
  {
   "cell_type": "code",
   "execution_count": null,
   "metadata": {},
   "outputs": [],
   "source": [
    "#Importing required libraries\n",
    "from numpy import array\n",
    "import keras\n",
    "from keras.utils import plot_model\n",
    "import pydot\n",
    "from tensorflow.keras import backend as K\n",
    "import keras.backend.common\n",
    "from keras.preprocessing.text import one_hot\n",
    "from keras.preprocessing.sequence import pad_sequences\n",
    "from keras.models import Sequential\n",
    "from keras.layers.core import Activation, Dropout, Dense\n",
    "from keras.layers import Flatten, LSTM\n",
    "from keras.layers import GlobalMaxPooling1D\n",
    "from keras.models import Model\n",
    "from keras.layers.embeddings import Embedding\n",
    "from sklearn.model_selection import train_test_split\n",
    "from keras.preprocessing.text import Tokenizer\n",
    "from keras.layers import Input\n",
    "from keras.layers.merge import Concatenate\n",
    "\n",
    "import pandas as pd\n",
    "import numpy as np\n",
    "import re\n",
    "\n",
    "import matplotlib.pyplot as plt"
   ]
  },
  {
   "cell_type": "code",
   "execution_count": 3,
   "metadata": {},
   "outputs": [
    {
     "name": "stderr",
     "output_type": "stream",
     "text": [
      "IOPub data rate exceeded.\n",
      "The notebook server will temporarily stop sending output\n",
      "to the client in order to avoid crashing it.\n",
      "To change this limit, set the config variable\n",
      "`--NotebookApp.iopub_data_rate_limit`.\n",
      "\n",
      "Current values:\n",
      "NotebookApp.iopub_data_rate_limit=1000000.0 (bytes/sec)\n",
      "NotebookApp.rate_limit_window=3.0 (secs)\n",
      "\n"
     ]
    }
   ],
   "source": [
    "#To enter your file just uncomment the below line and comment the 2nd line\n",
    "#filename=input(\"Enter you file Name:\")\n",
    "filename='nlp_train.json'\n",
    "import json\n",
    "\n",
    "with open(filename) as f:\n",
    "  data = json.load(f)\n",
    "\n",
    "print(data)\n"
   ]
  },
  {
   "cell_type": "markdown",
   "metadata": {},
   "source": [
    "# Preprocessing "
   ]
  },
  {
   "cell_type": "code",
   "execution_count": 4,
   "metadata": {},
   "outputs": [],
   "source": [
    "k_dict={}\n",
    "for key in data:\n",
    "    a={}\n",
    "    a[data[key]['body']]=data[key]['emotion']\n",
    "    k_dict[key]=a\n",
    "with open('ready.json', 'w') as json_file:\n",
    "  json.dump(k_dict, json_file)"
   ]
  },
  {
   "cell_type": "code",
   "execution_count": 5,
   "metadata": {},
   "outputs": [],
   "source": [
    "import csv\n",
    "inputFile = open('ready.json')\n",
    "outputFile = open('final.csv', 'w')\n",
    "data = json.load(inputFile)\n",
    "inputFile.close() \n",
    "output = csv.writer(outputFile)\n",
    "final_list=[]\n",
    "\n",
    "\n",
    "def preprocess_text(sen):\n",
    "   \n",
    "    sentence = re.sub('[^a-zA-Z]', ' ', sen)\n",
    "\n",
    "   \n",
    "    sentence = re.sub(r\"\\s+[a-zA-Z]\\s+\", ' ', sentence)\n",
    "\n",
    "   \n",
    "    sentence = re.sub(r'\\s+', ' ', sentence)\n",
    "\n",
    "    return sentence\n",
    "\n",
    "output.writerow([\"id\",\"body\",\"anger\",\"anticipation\",\"disgust\",\"fear\",\"joy\",\"love\",\"optimism\",\"pessimism\",\"sadness\",\"surprise\",\"trust\",\"neutral\"])\n",
    "for value,key in enumerate(data):\n",
    "    a=[]\n",
    "    a.append(key)\n",
    "    for body in data[key].keys():\n",
    "        a.append(preprocess_text(body))\n",
    "        for emotion in data[key][body]:\n",
    "            e=data[key][body][emotion]\n",
    "            if e:\n",
    "                a.append(1)\n",
    "            else:\n",
    "                a.append(0)\n",
    "    output.writerow(a)"
   ]
  },
  {
   "cell_type": "code",
   "execution_count": 6,
   "metadata": {},
   "outputs": [
    {
     "data": {
      "text/html": [
       "<div>\n",
       "<style scoped>\n",
       "    .dataframe tbody tr th:only-of-type {\n",
       "        vertical-align: middle;\n",
       "    }\n",
       "\n",
       "    .dataframe tbody tr th {\n",
       "        vertical-align: top;\n",
       "    }\n",
       "\n",
       "    .dataframe thead th {\n",
       "        text-align: right;\n",
       "    }\n",
       "</style>\n",
       "<table border=\"1\" class=\"dataframe\">\n",
       "  <thead>\n",
       "    <tr style=\"text-align: right;\">\n",
       "      <th></th>\n",
       "      <th>id</th>\n",
       "      <th>body</th>\n",
       "      <th>anger</th>\n",
       "      <th>anticipation</th>\n",
       "      <th>disgust</th>\n",
       "      <th>fear</th>\n",
       "      <th>joy</th>\n",
       "      <th>love</th>\n",
       "      <th>optimism</th>\n",
       "      <th>pessimism</th>\n",
       "      <th>sadness</th>\n",
       "      <th>surprise</th>\n",
       "      <th>trust</th>\n",
       "      <th>neutral</th>\n",
       "    </tr>\n",
       "  </thead>\n",
       "  <tbody>\n",
       "    <tr>\n",
       "      <th>0</th>\n",
       "      <td>fkrr36o</td>\n",
       "      <td>He was answering question about the criticism ...</td>\n",
       "      <td>1</td>\n",
       "      <td>0</td>\n",
       "      <td>1</td>\n",
       "      <td>0</td>\n",
       "      <td>0</td>\n",
       "      <td>0</td>\n",
       "      <td>0</td>\n",
       "      <td>1</td>\n",
       "      <td>0</td>\n",
       "      <td>0</td>\n",
       "      <td>0</td>\n",
       "      <td>0</td>\n",
       "    </tr>\n",
       "    <tr>\n",
       "      <th>1</th>\n",
       "      <td>fjyfp0o</td>\n",
       "      <td>I going to start today discussion thread with ...</td>\n",
       "      <td>1</td>\n",
       "      <td>1</td>\n",
       "      <td>1</td>\n",
       "      <td>1</td>\n",
       "      <td>0</td>\n",
       "      <td>0</td>\n",
       "      <td>0</td>\n",
       "      <td>1</td>\n",
       "      <td>0</td>\n",
       "      <td>0</td>\n",
       "      <td>0</td>\n",
       "      <td>0</td>\n",
       "    </tr>\n",
       "    <tr>\n",
       "      <th>2</th>\n",
       "      <td>fibm0x7</td>\n",
       "      <td>By announcing the self quarantined it paints p...</td>\n",
       "      <td>1</td>\n",
       "      <td>1</td>\n",
       "      <td>1</td>\n",
       "      <td>1</td>\n",
       "      <td>0</td>\n",
       "      <td>0</td>\n",
       "      <td>0</td>\n",
       "      <td>1</td>\n",
       "      <td>0</td>\n",
       "      <td>0</td>\n",
       "      <td>0</td>\n",
       "      <td>0</td>\n",
       "    </tr>\n",
       "    <tr>\n",
       "      <th>3</th>\n",
       "      <td>fj9b4oj</td>\n",
       "      <td>Likewise sorry if offended you m not actually ...</td>\n",
       "      <td>1</td>\n",
       "      <td>0</td>\n",
       "      <td>1</td>\n",
       "      <td>1</td>\n",
       "      <td>0</td>\n",
       "      <td>0</td>\n",
       "      <td>0</td>\n",
       "      <td>1</td>\n",
       "      <td>0</td>\n",
       "      <td>0</td>\n",
       "      <td>0</td>\n",
       "      <td>0</td>\n",
       "    </tr>\n",
       "    <tr>\n",
       "      <th>4</th>\n",
       "      <td>fk04ri5</td>\n",
       "      <td>People infected by experience high fever cough...</td>\n",
       "      <td>0</td>\n",
       "      <td>0</td>\n",
       "      <td>0</td>\n",
       "      <td>0</td>\n",
       "      <td>0</td>\n",
       "      <td>0</td>\n",
       "      <td>0</td>\n",
       "      <td>0</td>\n",
       "      <td>0</td>\n",
       "      <td>0</td>\n",
       "      <td>0</td>\n",
       "      <td>1</td>\n",
       "    </tr>\n",
       "    <tr>\n",
       "      <th>...</th>\n",
       "      <td>...</td>\n",
       "      <td>...</td>\n",
       "      <td>...</td>\n",
       "      <td>...</td>\n",
       "      <td>...</td>\n",
       "      <td>...</td>\n",
       "      <td>...</td>\n",
       "      <td>...</td>\n",
       "      <td>...</td>\n",
       "      <td>...</td>\n",
       "      <td>...</td>\n",
       "      <td>...</td>\n",
       "      <td>...</td>\n",
       "      <td>...</td>\n",
       "    </tr>\n",
       "    <tr>\n",
       "      <th>1485</th>\n",
       "      <td>fk6dgi5</td>\n",
       "      <td>LAUSD Superintendent Beutner gets additional c...</td>\n",
       "      <td>0</td>\n",
       "      <td>0</td>\n",
       "      <td>0</td>\n",
       "      <td>0</td>\n",
       "      <td>0</td>\n",
       "      <td>0</td>\n",
       "      <td>0</td>\n",
       "      <td>0</td>\n",
       "      <td>0</td>\n",
       "      <td>0</td>\n",
       "      <td>0</td>\n",
       "      <td>1</td>\n",
       "    </tr>\n",
       "    <tr>\n",
       "      <th>1486</th>\n",
       "      <td>fkehkor</td>\n",
       "      <td>The article for those who run into pay wall am...</td>\n",
       "      <td>0</td>\n",
       "      <td>1</td>\n",
       "      <td>0</td>\n",
       "      <td>1</td>\n",
       "      <td>0</td>\n",
       "      <td>0</td>\n",
       "      <td>1</td>\n",
       "      <td>1</td>\n",
       "      <td>0</td>\n",
       "      <td>0</td>\n",
       "      <td>0</td>\n",
       "      <td>0</td>\n",
       "    </tr>\n",
       "    <tr>\n",
       "      <th>1487</th>\n",
       "      <td>fipueyz</td>\n",
       "      <td>At least as for this case in Hokkaido Northern...</td>\n",
       "      <td>0</td>\n",
       "      <td>0</td>\n",
       "      <td>0</td>\n",
       "      <td>0</td>\n",
       "      <td>0</td>\n",
       "      <td>0</td>\n",
       "      <td>0</td>\n",
       "      <td>0</td>\n",
       "      <td>0</td>\n",
       "      <td>0</td>\n",
       "      <td>0</td>\n",
       "      <td>1</td>\n",
       "    </tr>\n",
       "    <tr>\n",
       "      <th>1488</th>\n",
       "      <td>fkedc6p</td>\n",
       "      <td>Yes you are correct rd war countries have it p...</td>\n",
       "      <td>1</td>\n",
       "      <td>0</td>\n",
       "      <td>1</td>\n",
       "      <td>1</td>\n",
       "      <td>0</td>\n",
       "      <td>0</td>\n",
       "      <td>0</td>\n",
       "      <td>1</td>\n",
       "      <td>1</td>\n",
       "      <td>0</td>\n",
       "      <td>0</td>\n",
       "      <td>0</td>\n",
       "    </tr>\n",
       "    <tr>\n",
       "      <th>1489</th>\n",
       "      <td>fl7ou8b</td>\n",
       "      <td>The US Government response and won even bother...</td>\n",
       "      <td>1</td>\n",
       "      <td>0</td>\n",
       "      <td>1</td>\n",
       "      <td>1</td>\n",
       "      <td>0</td>\n",
       "      <td>0</td>\n",
       "      <td>0</td>\n",
       "      <td>0</td>\n",
       "      <td>1</td>\n",
       "      <td>0</td>\n",
       "      <td>0</td>\n",
       "      <td>0</td>\n",
       "    </tr>\n",
       "  </tbody>\n",
       "</table>\n",
       "<p>1490 rows × 14 columns</p>\n",
       "</div>"
      ],
      "text/plain": [
       "           id                                               body  anger  \\\n",
       "0     fkrr36o  He was answering question about the criticism ...      1   \n",
       "1     fjyfp0o  I going to start today discussion thread with ...      1   \n",
       "2     fibm0x7  By announcing the self quarantined it paints p...      1   \n",
       "3     fj9b4oj  Likewise sorry if offended you m not actually ...      1   \n",
       "4     fk04ri5  People infected by experience high fever cough...      0   \n",
       "...       ...                                                ...    ...   \n",
       "1485  fk6dgi5  LAUSD Superintendent Beutner gets additional c...      0   \n",
       "1486  fkehkor  The article for those who run into pay wall am...      0   \n",
       "1487  fipueyz  At least as for this case in Hokkaido Northern...      0   \n",
       "1488  fkedc6p  Yes you are correct rd war countries have it p...      1   \n",
       "1489  fl7ou8b  The US Government response and won even bother...      1   \n",
       "\n",
       "      anticipation  disgust  fear  joy  love  optimism  pessimism  sadness  \\\n",
       "0                0        1     0    0     0         0          1        0   \n",
       "1                1        1     1    0     0         0          1        0   \n",
       "2                1        1     1    0     0         0          1        0   \n",
       "3                0        1     1    0     0         0          1        0   \n",
       "4                0        0     0    0     0         0          0        0   \n",
       "...            ...      ...   ...  ...   ...       ...        ...      ...   \n",
       "1485             0        0     0    0     0         0          0        0   \n",
       "1486             1        0     1    0     0         1          1        0   \n",
       "1487             0        0     0    0     0         0          0        0   \n",
       "1488             0        1     1    0     0         0          1        1   \n",
       "1489             0        1     1    0     0         0          0        1   \n",
       "\n",
       "      surprise  trust  neutral  \n",
       "0            0      0        0  \n",
       "1            0      0        0  \n",
       "2            0      0        0  \n",
       "3            0      0        0  \n",
       "4            0      0        1  \n",
       "...        ...    ...      ...  \n",
       "1485         0      0        1  \n",
       "1486         0      0        0  \n",
       "1487         0      0        1  \n",
       "1488         0      0        0  \n",
       "1489         0      0        0  \n",
       "\n",
       "[1490 rows x 14 columns]"
      ]
     },
     "execution_count": 6,
     "metadata": {},
     "output_type": "execute_result"
    }
   ],
   "source": [
    "file = pd.read_csv(\"final.csv\")\n",
    "file"
   ]
  },
  {
   "cell_type": "code",
   "execution_count": 7,
   "metadata": {},
   "outputs": [],
   "source": [
    "filter = file[\"body\"] != \"\"\n",
    "file = file[filter]\n",
    "file = file.dropna()"
   ]
  },
  {
   "cell_type": "code",
   "execution_count": 8,
   "metadata": {},
   "outputs": [
    {
     "name": "stdout",
     "output_type": "stream",
     "text": [
      "0       He was answering question about the criticism ...\n",
      "1       I going to start today discussion thread with ...\n",
      "2       By announcing the self quarantined it paints p...\n",
      "3       Likewise sorry if offended you m not actually ...\n",
      "4       People infected by experience high fever cough...\n",
      "                              ...                        \n",
      "1485    LAUSD Superintendent Beutner gets additional c...\n",
      "1486    The article for those who run into pay wall am...\n",
      "1487    At least as for this case in Hokkaido Northern...\n",
      "1488    Yes you are correct rd war countries have it p...\n",
      "1489    The US Government response and won even bother...\n",
      "Name: body, Length: 1490, dtype: object\n"
     ]
    }
   ],
   "source": [
    "print(file[\"body\"])"
   ]
  },
  {
   "cell_type": "code",
   "execution_count": 9,
   "metadata": {},
   "outputs": [
    {
     "data": {
      "text/html": [
       "<div>\n",
       "<style scoped>\n",
       "    .dataframe tbody tr th:only-of-type {\n",
       "        vertical-align: middle;\n",
       "    }\n",
       "\n",
       "    .dataframe tbody tr th {\n",
       "        vertical-align: top;\n",
       "    }\n",
       "\n",
       "    .dataframe thead th {\n",
       "        text-align: right;\n",
       "    }\n",
       "</style>\n",
       "<table border=\"1\" class=\"dataframe\">\n",
       "  <thead>\n",
       "    <tr style=\"text-align: right;\">\n",
       "      <th></th>\n",
       "      <th>anger</th>\n",
       "      <th>anticipation</th>\n",
       "      <th>disgust</th>\n",
       "      <th>fear</th>\n",
       "      <th>joy</th>\n",
       "      <th>love</th>\n",
       "      <th>optimism</th>\n",
       "      <th>pessimism</th>\n",
       "      <th>sadness</th>\n",
       "      <th>surprise</th>\n",
       "      <th>trust</th>\n",
       "      <th>neutral</th>\n",
       "    </tr>\n",
       "  </thead>\n",
       "  <tbody>\n",
       "    <tr>\n",
       "      <th>0</th>\n",
       "      <td>1</td>\n",
       "      <td>0</td>\n",
       "      <td>1</td>\n",
       "      <td>0</td>\n",
       "      <td>0</td>\n",
       "      <td>0</td>\n",
       "      <td>0</td>\n",
       "      <td>1</td>\n",
       "      <td>0</td>\n",
       "      <td>0</td>\n",
       "      <td>0</td>\n",
       "      <td>0</td>\n",
       "    </tr>\n",
       "    <tr>\n",
       "      <th>1</th>\n",
       "      <td>1</td>\n",
       "      <td>1</td>\n",
       "      <td>1</td>\n",
       "      <td>1</td>\n",
       "      <td>0</td>\n",
       "      <td>0</td>\n",
       "      <td>0</td>\n",
       "      <td>1</td>\n",
       "      <td>0</td>\n",
       "      <td>0</td>\n",
       "      <td>0</td>\n",
       "      <td>0</td>\n",
       "    </tr>\n",
       "    <tr>\n",
       "      <th>2</th>\n",
       "      <td>1</td>\n",
       "      <td>1</td>\n",
       "      <td>1</td>\n",
       "      <td>1</td>\n",
       "      <td>0</td>\n",
       "      <td>0</td>\n",
       "      <td>0</td>\n",
       "      <td>1</td>\n",
       "      <td>0</td>\n",
       "      <td>0</td>\n",
       "      <td>0</td>\n",
       "      <td>0</td>\n",
       "    </tr>\n",
       "    <tr>\n",
       "      <th>3</th>\n",
       "      <td>1</td>\n",
       "      <td>0</td>\n",
       "      <td>1</td>\n",
       "      <td>1</td>\n",
       "      <td>0</td>\n",
       "      <td>0</td>\n",
       "      <td>0</td>\n",
       "      <td>1</td>\n",
       "      <td>0</td>\n",
       "      <td>0</td>\n",
       "      <td>0</td>\n",
       "      <td>0</td>\n",
       "    </tr>\n",
       "    <tr>\n",
       "      <th>4</th>\n",
       "      <td>0</td>\n",
       "      <td>0</td>\n",
       "      <td>0</td>\n",
       "      <td>0</td>\n",
       "      <td>0</td>\n",
       "      <td>0</td>\n",
       "      <td>0</td>\n",
       "      <td>0</td>\n",
       "      <td>0</td>\n",
       "      <td>0</td>\n",
       "      <td>0</td>\n",
       "      <td>1</td>\n",
       "    </tr>\n",
       "  </tbody>\n",
       "</table>\n",
       "</div>"
      ],
      "text/plain": [
       "   anger  anticipation  disgust  fear  joy  love  optimism  pessimism  \\\n",
       "0      1             0        1     0    0     0         0          1   \n",
       "1      1             1        1     1    0     0         0          1   \n",
       "2      1             1        1     1    0     0         0          1   \n",
       "3      1             0        1     1    0     0         0          1   \n",
       "4      0             0        0     0    0     0         0          0   \n",
       "\n",
       "   sadness  surprise  trust  neutral  \n",
       "0        0         0      0        0  \n",
       "1        0         0      0        0  \n",
       "2        0         0      0        0  \n",
       "3        0         0      0        0  \n",
       "4        0         0      0        1  "
      ]
     },
     "execution_count": 9,
     "metadata": {},
     "output_type": "execute_result"
    }
   ],
   "source": [
    "file_labels = file[[\"anger\", \"anticipation\", \"disgust\", \"fear\", \"joy\", \"love\",\"optimism\",\"pessimism\",\"sadness\",\"surprise\",\"trust\",\"neutral\"]]\n",
    "file_labels.head()\n",
    "#File in required input format for model"
   ]
  },
  {
   "cell_type": "code",
   "execution_count": 10,
   "metadata": {},
   "outputs": [
    {
     "data": {
      "text/plain": [
       "<matplotlib.axes._subplots.AxesSubplot at 0x1a3ea1eb10>"
      ]
     },
     "execution_count": 10,
     "metadata": {},
     "output_type": "execute_result"
    },
    {
     "data": {
      "image/png": "[encoded data removed]",
      "text/plain": [
       "<Figure size 720x576 with 1 Axes>"
      ]
     },
     "metadata": {
      "needs_background": "light"
     },
     "output_type": "display_data"
    }
   ],
   "source": [
    "#Distribution of given data\n",
    "\n",
    "fig_size = plt.rcParams[\"figure.figsize\"]\n",
    "fig_size[0] = 10\n",
    "fig_size[1] = 8\n",
    "plt.rcParams[\"figure.figsize\"] = fig_size\n",
    "\n",
    "file_labels.sum(axis=0).plot.bar()"
   ]
  },
  {
   "cell_type": "markdown",
   "metadata": {},
   "source": [
    "# Creating Multi-label Text Classification Models"
   ]
  },
  {
   "cell_type": "code",
   "execution_count": 11,
   "metadata": {},
   "outputs": [],
   "source": [
    "X = []\n",
    "sentences = list(file[\"body\"])\n",
    "for sen in sentences:\n",
    "    X.append(preprocess_text(sen))\n",
    "\n",
    "y = file_labels.values"
   ]
  },
  {
   "cell_type": "code",
   "execution_count": 12,
   "metadata": {},
   "outputs": [],
   "source": [
    "#Splitting Train-Test data\n",
    "X_train, X_test, y_train, y_test = train_test_split(X, y, test_size=0.20, random_state=42)"
   ]
  },
  {
   "cell_type": "code",
   "execution_count": 13,
   "metadata": {},
   "outputs": [],
   "source": [
    "tokenizer = Tokenizer(num_words=5000)\n",
    "tokenizer.fit_on_texts(X_train)\n",
    "\n",
    "X_train = tokenizer.texts_to_sequences(X_train)\n",
    "X_test = tokenizer.texts_to_sequences(X_test)\n",
    "\n",
    "vocab_size = len(tokenizer.word_index) + 1\n",
    "\n",
    "maxlen = 200\n",
    "\n",
    "X_train = pad_sequences(X_train, padding='post', maxlen=maxlen)\n",
    "X_test = pad_sequences(X_test, padding='post', maxlen=maxlen)"
   ]
  },
  {
   "cell_type": "code",
   "execution_count": 14,
   "metadata": {},
   "outputs": [],
   "source": [
    "#Using GloVe word embeddings to convert text inputs to their numeric counterparts.\n",
    "from numpy import array\n",
    "from numpy import asarray\n",
    "from numpy import zeros\n",
    "\n",
    "embeddings_dictionary = dict()\n",
    "\n",
    "glove_file = open('glove.6B.100d.txt', encoding=\"utf8\")\n",
    "\n",
    "for line in glove_file:\n",
    "    records = line.split()\n",
    "    word = records[0]\n",
    "    vector_dimensions = asarray(records[1:], dtype='float32')\n",
    "    embeddings_dictionary[word] = vector_dimensions\n",
    "glove_file.close()\n",
    "embedding_matrix = zeros((vocab_size, 100))\n",
    "for word, index in tokenizer.word_index.items():\n",
    "    embedding_vector = embeddings_dictionary.get(word)\n",
    "    if embedding_vector is not None:\n",
    "        embedding_matrix[index] = embedding_vector\n"
   ]
  },
  {
   "cell_type": "code",
   "execution_count": 15,
   "metadata": {},
   "outputs": [],
   "source": [
    "deep_inputs = Input(shape=(maxlen,))\n",
    "embedding_layer = Embedding(vocab_size, 100, weights=[embedding_matrix], trainable=False)(deep_inputs)"
   ]
  },
  {
   "cell_type": "code",
   "execution_count": 60,
   "metadata": {},
   "outputs": [
    {
     "data": {
      "text/plain": [
       "'model.add(LSTM(150,\\n               input_shape=(64, 7, 339),\\n               return_sequences=False))\\nmodel.add(Dropout(0.2))\\nmodel.add(LSTM(\\n    200,\\n    return_sequences=True))\\nmodel.add(Dropout(0.2))'"
      ]
     },
     "execution_count": 60,
     "metadata": {},
     "output_type": "execute_result"
    }
   ],
   "source": [
    "# CREATING LSTM MODEL\n",
    "LSTM_Layer_1 = LSTM(128)(embedding_layer)\n",
    "dense_layer_1 = Dense(12, activation='relu')(LSTM_Layer_1)\n",
    "dense_layer_2= Dense(12, activation='sigmoid')(dense_layer_1)\n",
    "dense_layer_3= Dense(12, activation='relu')(dense_layer_2)\n",
    "model = Model(inputs=deep_inputs, outputs=dense_layer_3)\n",
    "\n",
    "model.compile(loss='binary_crossentropy', optimizer='adam', metrics=['acc'])"
   ]
  },
  {
   "cell_type": "code",
   "execution_count": 61,
   "metadata": {},
   "outputs": [
    {
     "name": "stdout",
     "output_type": "stream",
     "text": [
      "Model: \"model_8\"\n",
      "_________________________________________________________________\n",
      "Layer (type)                 Output Shape              Param #   \n",
      "=================================================================\n",
      "input_1 (InputLayer)         (None, 200)               0         \n",
      "_________________________________________________________________\n",
      "embedding_1 (Embedding)      (None, 200, 100)          2493000   \n",
      "_________________________________________________________________\n",
      "lstm_9 (LSTM)                (None, 128)               117248    \n",
      "_________________________________________________________________\n",
      "dense_28 (Dense)             (None, 12)                1548      \n",
      "_________________________________________________________________\n",
      "dense_29 (Dense)             (None, 12)                156       \n",
      "_________________________________________________________________\n",
      "dense_30 (Dense)             (None, 12)                156       \n",
      "=================================================================\n",
      "Total params: 2,612,108\n",
      "Trainable params: 119,108\n",
      "Non-trainable params: 2,493,000\n",
      "_________________________________________________________________\n",
      "None\n"
     ]
    }
   ],
   "source": [
    "#MODEL\n",
    "print(model.summary())"
   ]
  },
  {
   "cell_type": "markdown",
   "metadata": {},
   "source": [
    "# Model Visualization"
   ]
  },
  {
   "cell_type": "code",
   "execution_count": 54,
   "metadata": {},
   "outputs": [],
   "source": [
    "from keras.utils import plot_model\n",
    "import pydot\n",
    "\n",
    "#import graphviz"
   ]
  },
  {
   "cell_type": "markdown",
   "metadata": {},
   "source": [
    "\n",
    "## Architecture of our neural network:"
   ]
  },
  {
   "cell_type": "code",
   "execution_count": 55,
   "metadata": {},
   "outputs": [
    {
     "data": {
      "image/png": "[encoded data removed]",
      "text/plain": [
       "<IPython.core.display.Image object>"
      ]
     },
     "execution_count": 55,
     "metadata": {},
     "output_type": "execute_result"
    }
   ],
   "source": [
    "plot_model(model,to_file='model_plot.png',show_shapes=True,show_layer_names=True)"
   ]
  },
  {
   "cell_type": "code",
   "execution_count": 78,
   "metadata": {},
   "outputs": [
    {
     "name": "stdout",
     "output_type": "stream",
     "text": [
      "Train on 834 samples, validate on 358 samples\n",
      "Epoch 1/30\n",
      "834/834 [==============================] - 31s 37ms/step - loss: 0.9425 - acc: 0.7960 - val_loss: 1.2709 - val_acc: 0.7263\n",
      "Epoch 2/30\n",
      "834/834 [==============================] - 20s 24ms/step - loss: 0.9360 - acc: 0.8005 - val_loss: 1.2582 - val_acc: 0.7263\n",
      "Epoch 3/30\n",
      "834/834 [==============================] - 20s 24ms/step - loss: 0.9330 - acc: 0.8048 - val_loss: 1.2925 - val_acc: 0.7281\n",
      "Epoch 4/30\n",
      "834/834 [==============================] - 20s 24ms/step - loss: 0.9301 - acc: 0.8056 - val_loss: 1.3065 - val_acc: 0.7256\n",
      "Epoch 5/30\n",
      "834/834 [==============================] - 19s 22ms/step - loss: 0.9353 - acc: 0.8034 - val_loss: 1.2261 - val_acc: 0.7260\n",
      "Epoch 6/30\n",
      "834/834 [==============================] - 20s 24ms/step - loss: 0.9370 - acc: 0.8036 - val_loss: 1.2730 - val_acc: 0.7237\n",
      "Epoch 7/30\n",
      "834/834 [==============================] - 20s 24ms/step - loss: 0.9299 - acc: 0.8061 - val_loss: 1.2855 - val_acc: 0.7300\n",
      "Epoch 8/30\n",
      "834/834 [==============================] - 21s 25ms/step - loss: 0.9268 - acc: 0.8053 - val_loss: 1.2679 - val_acc: 0.7281\n",
      "Epoch 9/30\n",
      "834/834 [==============================] - 20s 24ms/step - loss: 0.9231 - acc: 0.8081 - val_loss: 1.2882 - val_acc: 0.7307\n",
      "Epoch 10/30\n",
      "834/834 [==============================] - 21s 25ms/step - loss: 0.9213 - acc: 0.8096 - val_loss: 1.3010 - val_acc: 0.7274\n",
      "Epoch 11/30\n",
      "834/834 [==============================] - 19s 23ms/step - loss: 0.9190 - acc: 0.8118 - val_loss: 1.3226 - val_acc: 0.7316\n",
      "Epoch 12/30\n",
      "834/834 [==============================] - 22s 26ms/step - loss: 0.9160 - acc: 0.8130 - val_loss: 1.3262 - val_acc: 0.7279\n",
      "Epoch 13/30\n",
      "834/834 [==============================] - 23s 28ms/step - loss: 0.9170 - acc: 0.8130 - val_loss: 1.3249 - val_acc: 0.7284\n",
      "Epoch 14/30\n",
      "834/834 [==============================] - 25s 30ms/step - loss: 0.9133 - acc: 0.8161 - val_loss: 1.3409 - val_acc: 0.7302\n",
      "Epoch 15/30\n",
      "834/834 [==============================] - 25s 30ms/step - loss: 0.9105 - acc: 0.8166 - val_loss: 1.3299 - val_acc: 0.7284\n",
      "Epoch 16/30\n",
      "834/834 [==============================] - 25s 30ms/step - loss: 0.9091 - acc: 0.8170 - val_loss: 1.3362 - val_acc: 0.7263\n",
      "Epoch 17/30\n",
      "834/834 [==============================] - 31s 37ms/step - loss: 0.9101 - acc: 0.8177 - val_loss: 1.3538 - val_acc: 0.7316\n",
      "Epoch 18/30\n",
      "834/834 [==============================] - 18s 22ms/step - loss: 0.9112 - acc: 0.8166 - val_loss: 1.3384 - val_acc: 0.7274\n",
      "Epoch 19/30\n",
      "834/834 [==============================] - 18s 22ms/step - loss: 0.9143 - acc: 0.8147 - val_loss: 1.3222 - val_acc: 0.7237\n",
      "Epoch 20/30\n",
      "834/834 [==============================] - 18s 22ms/step - loss: 0.9104 - acc: 0.8141 - val_loss: 1.3530 - val_acc: 0.7272\n",
      "Epoch 21/30\n",
      "834/834 [==============================] - 18s 22ms/step - loss: 0.9066 - acc: 0.8191 - val_loss: 1.3980 - val_acc: 0.7253\n",
      "Epoch 22/30\n",
      "834/834 [==============================] - 18s 22ms/step - loss: 0.9053 - acc: 0.8171 - val_loss: 1.3450 - val_acc: 0.7316\n",
      "Epoch 23/30\n",
      "834/834 [==============================] - 18s 22ms/step - loss: 1.0738 - acc: 0.7772 - val_loss: 1.1688 - val_acc: 0.6974\n",
      "Epoch 24/30\n",
      "834/834 [==============================] - 18s 22ms/step - loss: 1.0637 - acc: 0.7468 - val_loss: 1.0776 - val_acc: 0.7218\n",
      "Epoch 25/30\n",
      "834/834 [==============================] - 18s 22ms/step - loss: 1.0322 - acc: 0.7527 - val_loss: 1.1029 - val_acc: 0.7277\n",
      "Epoch 26/30\n",
      "834/834 [==============================] - 18s 22ms/step - loss: 1.0142 - acc: 0.7587 - val_loss: 1.0956 - val_acc: 0.7235\n",
      "Epoch 27/30\n",
      "834/834 [==============================] - 18s 22ms/step - loss: 1.0038 - acc: 0.7634 - val_loss: 1.0947 - val_acc: 0.7307\n",
      "Epoch 28/30\n",
      "834/834 [==============================] - 19s 22ms/step - loss: 0.9957 - acc: 0.7705 - val_loss: 1.0825 - val_acc: 0.7344\n",
      "Epoch 29/30\n",
      "834/834 [==============================] - 19s 23ms/step - loss: 0.9912 - acc: 0.7719 - val_loss: 1.0914 - val_acc: 0.7314\n",
      "Epoch 30/30\n",
      "834/834 [==============================] - 18s 22ms/step - loss: 0.9853 - acc: 0.7745 - val_loss: 1.1177 - val_acc: 0.7335\n"
     ]
    }
   ],
   "source": [
    "history = model.fit(X_train, y_train, batch_size=128, epochs=30, verbose=1, validation_split=0.3)"
   ]
  },
  {
   "cell_type": "code",
   "execution_count": 79,
   "metadata": {},
   "outputs": [
    {
     "name": "stdout",
     "output_type": "stream",
     "text": [
      "298/298 [==============================] - 3s 10ms/step\n",
      "1.1102142982034875\n",
      "0.7354585528373718\n"
     ]
    }
   ],
   "source": [
    "score=model.evaluate(X_test,y_test,verbose=1)\n",
    "print(score[0])\n",
    "print(score[1])"
   ]
  },
  {
   "cell_type": "markdown",
   "metadata": {},
   "source": [
    "## Plotting the loss and accuracy values for training and test sets"
   ]
  },
  {
   "cell_type": "code",
   "execution_count": 80,
   "metadata": {},
   "outputs": [
    {
     "data": {
      "image/png": "[encoded data removed]",
      "text/plain": [
       "<Figure size 720x576 with 1 Axes>"
      ]
     },
     "metadata": {
      "needs_background": "light"
     },
     "output_type": "display_data"
    },
    {
     "data": {
      "image/png": "[encoded data removed]",
      "text/plain": [
       "<Figure size 720x576 with 1 Axes>"
      ]
     },
     "metadata": {
      "needs_background": "light"
     },
     "output_type": "display_data"
    }
   ],
   "source": [
    "import matplotlib.pyplot as plt\n",
    "\n",
    "plt.plot(history.history['acc'])\n",
    "plt.plot(history.history['val_acc'])\n",
    "\n",
    "plt.title('model accuracy')\n",
    "plt.ylabel('accuracy')\n",
    "plt.xlabel('epoch')\n",
    "plt.legend(['train','test'], loc='upper left')\n",
    "plt.show()\n",
    "\n",
    "plt.plot(history.history['loss'])\n",
    "plt.plot(history.history['val_loss'])\n",
    "\n",
    "plt.title('model loss')\n",
    "plt.ylabel('loss')\n",
    "plt.xlabel('epoch')\n",
    "plt.legend(['train','test'], loc='upper left')\n",
    "plt.show()"
   ]
  },
  {
   "cell_type": "code",
   "execution_count": null,
   "metadata": {},
   "outputs": [],
   "source": []
  }
 ],
 "metadata": {
  "kernelspec": {
   "display_name": "Python 3",
   "language": "python",
   "name": "python3"
  },
  "language_info": {
   "codemirror_mode": {
    "name": "ipython",
    "version": 3
   },
   "file_extension": ".py",
   "mimetype": "text/x-python",
   "name": "python",
   "nbconvert_exporter": "python",
   "pygments_lexer": "ipython3",
   "version": "3.7.6"
  }
 },
 "nbformat": 4,
 "nbformat_minor": 4
}
